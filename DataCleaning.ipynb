{
 "cells": [
  {
   "cell_type": "code",
   "execution_count": 1,
   "id": "0e0808e2-df6d-4228-a17a-6c29930b7a02",
   "metadata": {},
   "outputs": [
    {
     "name": "stdout",
     "output_type": "stream",
     "text": [
      "     stock1    stock2    stock3\n",
      "a  1.109737  0.314096 -1.296437\n",
      "b       NaN       NaN       NaN\n",
      "c  0.257069 -0.425328  0.661188\n",
      "d       NaN       NaN       NaN\n",
      "e  0.069195  0.218436 -0.474401\n",
      "f  2.041745 -2.345870 -1.202188\n",
      "g       NaN       NaN       NaN\n",
      "h  2.193386  0.991513 -1.308542\n"
     ]
    }
   ],
   "source": [
    "import pandas as pd\n",
    "import numpy as np\n",
    "dataset = pd.DataFrame(np.random.randn(5, 3),\n",
    "index=['a', 'c', 'e', 'f', 'h'],columns=['stock1','stock2', 'stock3'])\n",
    "dataset.rename(columns={\"one\":'stock1',\"two\":'stock2',\"three\":'stock3'}, inplace=True)\n",
    "dataset = dataset.reindex(['a', 'b', 'c', 'd', 'e','f', 'g', 'h'])\n",
    "print (dataset)"
   ]
  },
  {
   "cell_type": "code",
   "execution_count": 2,
   "id": "c112ef87-177e-479e-9c23-09af3fbac2e2",
   "metadata": {},
   "outputs": [
    {
     "data": {
      "text/plain": [
       "array([[-1.37719558, -1.3404406 , -0.1928786 ],\n",
       "       [-0.63399132,  1.14276657,  0.63809051],\n",
       "       [-0.74536504,  0.9902669 ,  1.26432432],\n",
       "       [-0.20753602,  1.19376156, -0.09628837],\n",
       "       [ 0.48153387,  0.10642787,  1.67740408]])"
      ]
     },
     "execution_count": 2,
     "metadata": {},
     "output_type": "execute_result"
    }
   ],
   "source": [
    "import numpy as np\n",
    "np.random.randn(5, 3)"
   ]
  },
  {
   "cell_type": "code",
   "execution_count": 3,
   "id": "7c115b22-8d96-4d65-b805-73e6b4afe6e9",
   "metadata": {},
   "outputs": [
    {
     "name": "stdout",
     "output_type": "stream",
     "text": [
      "a    False\n",
      "b     True\n",
      "c    False\n",
      "d     True\n",
      "e    False\n",
      "f    False\n",
      "g     True\n",
      "h    False\n",
      "Name: stock1, dtype: bool\n"
     ]
    }
   ],
   "source": [
    "print (dataset['stock1'].isnull())"
   ]
  },
  {
   "cell_type": "code",
   "execution_count": 4,
   "id": "c25dec90-d6fa-4cf0-9b21-07a4cea55f6f",
   "metadata": {},
   "outputs": [
    {
     "name": "stdout",
     "output_type": "stream",
     "text": [
      "     stock1    stock2    stock3\n",
      "a  1.109737  0.314096 -1.296437\n",
      "b       NaN       NaN       NaN\n",
      "c  0.257069 -0.425328  0.661188\n",
      "d       NaN       NaN       NaN\n",
      "e  0.069195  0.218436 -0.474401\n",
      "f  2.041745 -2.345870 -1.202188\n",
      "g       NaN       NaN       NaN\n",
      "h  2.193386  0.991513 -1.308542\n"
     ]
    },
    {
     "data": {
      "text/html": [
       "<div>\n",
       "<style scoped>\n",
       "    .dataframe tbody tr th:only-of-type {\n",
       "        vertical-align: middle;\n",
       "    }\n",
       "\n",
       "    .dataframe tbody tr th {\n",
       "        vertical-align: top;\n",
       "    }\n",
       "\n",
       "    .dataframe thead th {\n",
       "        text-align: right;\n",
       "    }\n",
       "</style>\n",
       "<table border=\"1\" class=\"dataframe\">\n",
       "  <thead>\n",
       "    <tr style=\"text-align: right;\">\n",
       "      <th></th>\n",
       "      <th>stock1</th>\n",
       "      <th>stock2</th>\n",
       "      <th>stock3</th>\n",
       "    </tr>\n",
       "  </thead>\n",
       "  <tbody>\n",
       "    <tr>\n",
       "      <th>a</th>\n",
       "      <td>1.109737</td>\n",
       "      <td>0.314096</td>\n",
       "      <td>-1.296437</td>\n",
       "    </tr>\n",
       "    <tr>\n",
       "      <th>b</th>\n",
       "      <td>0.000000</td>\n",
       "      <td>0.000000</td>\n",
       "      <td>0.000000</td>\n",
       "    </tr>\n",
       "    <tr>\n",
       "      <th>c</th>\n",
       "      <td>0.257069</td>\n",
       "      <td>-0.425328</td>\n",
       "      <td>0.661188</td>\n",
       "    </tr>\n",
       "    <tr>\n",
       "      <th>d</th>\n",
       "      <td>0.000000</td>\n",
       "      <td>0.000000</td>\n",
       "      <td>0.000000</td>\n",
       "    </tr>\n",
       "    <tr>\n",
       "      <th>e</th>\n",
       "      <td>0.069195</td>\n",
       "      <td>0.218436</td>\n",
       "      <td>-0.474401</td>\n",
       "    </tr>\n",
       "    <tr>\n",
       "      <th>f</th>\n",
       "      <td>2.041745</td>\n",
       "      <td>-2.345870</td>\n",
       "      <td>-1.202188</td>\n",
       "    </tr>\n",
       "    <tr>\n",
       "      <th>g</th>\n",
       "      <td>0.000000</td>\n",
       "      <td>0.000000</td>\n",
       "      <td>0.000000</td>\n",
       "    </tr>\n",
       "    <tr>\n",
       "      <th>h</th>\n",
       "      <td>2.193386</td>\n",
       "      <td>0.991513</td>\n",
       "      <td>-1.308542</td>\n",
       "    </tr>\n",
       "  </tbody>\n",
       "</table>\n",
       "</div>"
      ],
      "text/plain": [
       "     stock1    stock2    stock3\n",
       "a  1.109737  0.314096 -1.296437\n",
       "b  0.000000  0.000000  0.000000\n",
       "c  0.257069 -0.425328  0.661188\n",
       "d  0.000000  0.000000  0.000000\n",
       "e  0.069195  0.218436 -0.474401\n",
       "f  2.041745 -2.345870 -1.202188\n",
       "g  0.000000  0.000000  0.000000\n",
       "h  2.193386  0.991513 -1.308542"
      ]
     },
     "execution_count": 4,
     "metadata": {},
     "output_type": "execute_result"
    }
   ],
   "source": [
    "print (dataset)\n",
    "dataset.fillna(0)"
   ]
  },
  {
   "cell_type": "code",
   "execution_count": 7,
   "id": "92012a25-62b1-4f1c-ac25-db78088aca06",
   "metadata": {},
   "outputs": [
    {
     "name": "stdout",
     "output_type": "stream",
     "text": [
      "     stock1    stock2    stock3\n",
      "a  1.109737  0.314096 -1.296437\n",
      "b       NaN       NaN       NaN\n",
      "c  0.257069 -0.425328  0.661188\n",
      "d       NaN       NaN       NaN\n",
      "e  0.069195  0.218436 -0.474401\n",
      "f  2.041745 -2.345870 -1.202188\n",
      "g       NaN       NaN       NaN\n",
      "h  2.193386  0.991513 -1.308542\n"
     ]
    },
    {
     "data": {
      "text/html": [
       "<div>\n",
       "<style scoped>\n",
       "    .dataframe tbody tr th:only-of-type {\n",
       "        vertical-align: middle;\n",
       "    }\n",
       "\n",
       "    .dataframe tbody tr th {\n",
       "        vertical-align: top;\n",
       "    }\n",
       "\n",
       "    .dataframe thead th {\n",
       "        text-align: right;\n",
       "    }\n",
       "</style>\n",
       "<table border=\"1\" class=\"dataframe\">\n",
       "  <thead>\n",
       "    <tr style=\"text-align: right;\">\n",
       "      <th></th>\n",
       "      <th>stock1</th>\n",
       "      <th>stock2</th>\n",
       "      <th>stock3</th>\n",
       "    </tr>\n",
       "  </thead>\n",
       "  <tbody>\n",
       "    <tr>\n",
       "      <th>a</th>\n",
       "      <td>1.109737</td>\n",
       "      <td>0.314096</td>\n",
       "      <td>-1.296437</td>\n",
       "    </tr>\n",
       "    <tr>\n",
       "      <th>b</th>\n",
       "      <td>0.000000</td>\n",
       "      <td>0.000000</td>\n",
       "      <td>0.000000</td>\n",
       "    </tr>\n",
       "    <tr>\n",
       "      <th>c</th>\n",
       "      <td>0.257069</td>\n",
       "      <td>-0.425328</td>\n",
       "      <td>0.661188</td>\n",
       "    </tr>\n",
       "    <tr>\n",
       "      <th>d</th>\n",
       "      <td>0.000000</td>\n",
       "      <td>0.000000</td>\n",
       "      <td>0.000000</td>\n",
       "    </tr>\n",
       "    <tr>\n",
       "      <th>e</th>\n",
       "      <td>0.069195</td>\n",
       "      <td>0.218436</td>\n",
       "      <td>-0.474401</td>\n",
       "    </tr>\n",
       "    <tr>\n",
       "      <th>f</th>\n",
       "      <td>2.041745</td>\n",
       "      <td>-2.345870</td>\n",
       "      <td>-1.202188</td>\n",
       "    </tr>\n",
       "    <tr>\n",
       "      <th>g</th>\n",
       "      <td>0.000000</td>\n",
       "      <td>0.000000</td>\n",
       "      <td>0.000000</td>\n",
       "    </tr>\n",
       "    <tr>\n",
       "      <th>h</th>\n",
       "      <td>2.193386</td>\n",
       "      <td>0.991513</td>\n",
       "      <td>-1.308542</td>\n",
       "    </tr>\n",
       "  </tbody>\n",
       "</table>\n",
       "</div>"
      ],
      "text/plain": [
       "     stock1    stock2    stock3\n",
       "a  1.109737  0.314096 -1.296437\n",
       "b  0.000000  0.000000  0.000000\n",
       "c  0.257069 -0.425328  0.661188\n",
       "d  0.000000  0.000000  0.000000\n",
       "e  0.069195  0.218436 -0.474401\n",
       "f  2.041745 -2.345870 -1.202188\n",
       "g  0.000000  0.000000  0.000000\n",
       "h  2.193386  0.991513 -1.308542"
      ]
     },
     "execution_count": 7,
     "metadata": {},
     "output_type": "execute_result"
    }
   ],
   "source": [
    "print (dataset)\n",
    "dataset.replace(np.nan, 0)"
   ]
  },
  {
   "cell_type": "code",
   "execution_count": 6,
   "id": "f42ae608-e21b-4f3d-b2d2-c028712763ed",
   "metadata": {},
   "outputs": [
    {
     "name": "stdout",
     "output_type": "stream",
     "text": [
      "     stock1    stock2    stock3\n",
      "a  1.109737  0.314096 -1.296437\n",
      "b       NaN       NaN       NaN\n",
      "c  0.257069 -0.425328  0.661188\n",
      "d       NaN       NaN       NaN\n",
      "e  0.069195  0.218436 -0.474401\n",
      "f  2.041745 -2.345870 -1.202188\n",
      "g       NaN       NaN       NaN\n",
      "h  2.193386  0.991513 -1.308542\n"
     ]
    },
    {
     "data": {
      "text/html": [
       "<div>\n",
       "<style scoped>\n",
       "    .dataframe tbody tr th:only-of-type {\n",
       "        vertical-align: middle;\n",
       "    }\n",
       "\n",
       "    .dataframe tbody tr th {\n",
       "        vertical-align: top;\n",
       "    }\n",
       "\n",
       "    .dataframe thead th {\n",
       "        text-align: right;\n",
       "    }\n",
       "</style>\n",
       "<table border=\"1\" class=\"dataframe\">\n",
       "  <thead>\n",
       "    <tr style=\"text-align: right;\">\n",
       "      <th></th>\n",
       "      <th>stock1</th>\n",
       "      <th>stock2</th>\n",
       "      <th>stock3</th>\n",
       "    </tr>\n",
       "  </thead>\n",
       "  <tbody>\n",
       "    <tr>\n",
       "      <th>a</th>\n",
       "      <td>1.109737</td>\n",
       "      <td>0.314096</td>\n",
       "      <td>-1.296437</td>\n",
       "    </tr>\n",
       "    <tr>\n",
       "      <th>c</th>\n",
       "      <td>0.257069</td>\n",
       "      <td>-0.425328</td>\n",
       "      <td>0.661188</td>\n",
       "    </tr>\n",
       "    <tr>\n",
       "      <th>e</th>\n",
       "      <td>0.069195</td>\n",
       "      <td>0.218436</td>\n",
       "      <td>-0.474401</td>\n",
       "    </tr>\n",
       "    <tr>\n",
       "      <th>f</th>\n",
       "      <td>2.041745</td>\n",
       "      <td>-2.345870</td>\n",
       "      <td>-1.202188</td>\n",
       "    </tr>\n",
       "    <tr>\n",
       "      <th>h</th>\n",
       "      <td>2.193386</td>\n",
       "      <td>0.991513</td>\n",
       "      <td>-1.308542</td>\n",
       "    </tr>\n",
       "  </tbody>\n",
       "</table>\n",
       "</div>"
      ],
      "text/plain": [
       "     stock1    stock2    stock3\n",
       "a  1.109737  0.314096 -1.296437\n",
       "c  0.257069 -0.425328  0.661188\n",
       "e  0.069195  0.218436 -0.474401\n",
       "f  2.041745 -2.345870 -1.202188\n",
       "h  2.193386  0.991513 -1.308542"
      ]
     },
     "execution_count": 6,
     "metadata": {},
     "output_type": "execute_result"
    }
   ],
   "source": [
    "print (dataset)\n",
    "dataset.dropna()"
   ]
  },
  {
   "cell_type": "code",
   "execution_count": null,
   "id": "027fdc72-96ad-4d20-9af9-19c8780d4b62",
   "metadata": {},
   "outputs": [],
   "source": []
  }
 ],
 "metadata": {
  "kernelspec": {
   "display_name": "Python 3 (ipykernel)",
   "language": "python",
   "name": "python3"
  },
  "language_info": {
   "codemirror_mode": {
    "name": "ipython",
    "version": 3
   },
   "file_extension": ".py",
   "mimetype": "text/x-python",
   "name": "python",
   "nbconvert_exporter": "python",
   "pygments_lexer": "ipython3",
   "version": "3.11.7"
  }
 },
 "nbformat": 4,
 "nbformat_minor": 5
}
